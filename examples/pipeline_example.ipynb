{
 "cells": [
  {
   "attachments": {},
   "cell_type": "markdown",
   "metadata": {},
   "source": [
    "# Pipeline\n",
    "This is one example how to use the pipeline and generate new samples.\n",
    "Please use this next to the docstrings to understand how to use the pipeline."
   ]
  },
  {
   "cell_type": "code",
   "execution_count": 2,
   "metadata": {},
   "outputs": [],
   "source": [
    "# General\n",
    "import torch\n",
    "\n",
    "# Import the models and pipeline\n",
    "from models import LeNet5, CGanGenerator\n",
    "from pipeline import generate_samples\n",
    "\n",
    "# Import to display result\n",
    "from utils import plot_prediction_switch"
   ]
  },
  {
   "attachments": {},
   "cell_type": "markdown",
   "metadata": {},
   "source": [
    "### Variables\n",
    "Following are variables are used for the pipeline:\n",
    "- CLASSIFIER: The classifier $C$ that will be used by the pipeline. The pipeline takes either the whole model, that path to the model-file or the path to the models weights-file.\n",
    "- GENERATOR: The classifier $G$ that will be used by the pipeline. The pipeline takes either the whole model, that path to the model-file or the path to the models weights-file.\n",
    "- N_GENERATED_SAMPLES: The number of samples to generate.\n",
    "- N_TIMEOUT: The number of trials before continue to higher epsilon."
   ]
  },
  {
   "cell_type": "code",
   "execution_count": 3,
   "metadata": {},
   "outputs": [],
   "source": [
    "# Paths to set\n",
    "# The path to the classifier, that will be used by the pipeline. It can be a path to the models weights or the model will be passed directly.\n",
    "CLASSIFIER_STATE_DICT_PATH = r\"models\\state_dicts\\lenet5.pt\"\n",
    "# The path to the generator, that will be used by the pipeline. It can be a path to the models weights or the model will be passed directly.\n",
    "GENERATOR_STATE_DICT_PATH = r\"models\\state_dicts\\conditional_gan_generator.pt\"\n",
    "\n",
    "# Set random seed for reproducibility\n",
    "torch.manual_seed(0)\n",
    "\n",
    "# Get the device for cuda optimization\n",
    "DEVICE = torch.device('cuda' if torch.cuda.is_available() else 'cpu')\n",
    "\n",
    "# Load the classifier\n",
    "classifier = LeNet5()\n",
    "classifier.load_state_dict(torch.load(CLASSIFIER_STATE_DICT_PATH))\n",
    "classifier.to(DEVICE)\n",
    "\n",
    "# Load the Generator\n",
    "generator = CGanGenerator(100, (1,28,28))\n",
    "generator.load_state_dict(torch.load(GENERATOR_STATE_DICT_PATH))\n",
    "generator.to(DEVICE)\n",
    "\n",
    "# Number of samples to generate\n",
    "N_GENERATED_SAMPLES=25\n",
    "\n",
    "# Number of trials per epsilon before algorithm continues with higher perturbation or time out\n",
    "N_TIMEOUT = 1000\n",
    "\n",
    "# Target of class that will be created. In MNIST examples now samples will be generated for a number 1\n",
    "TARGET_CLASS = 1\n",
    "TARGET = torch.LongTensor(TARGET_CLASS).to(DEVICE)"
   ]
  },
  {
   "cell_type": "markdown",
   "metadata": {},
   "source": [
    "## Generate samples"
   ]
  },
  {
   "cell_type": "code",
   "execution_count": 4,
   "metadata": {},
   "outputs": [
    {
     "name": "stdout",
     "output_type": "stream",
     "text": [
      "Generated 25 adversarial samples with generator\n"
     ]
    }
   ],
   "source": [
    "# generate samples will return the noise (z), label (y) with the perturbated version with per_z and per_y\n",
    "generator.set_label(TARGET)\n",
    "classifier, generator, (z, y, per_z, per_y) = generate_samples(classifier, generator, DEVICE, TARGET, N_GENERATED_SAMPLES, 0.45, N_TIMEOUT)\n",
    "\n",
    "# To get the image of the number generate the images with the generator,\n",
    "x, per_x = generator(z).detach(), generator(per_z).detach()\n",
    "\n",
    "# Display the result\n",
    "print(f\"Generated {len(z)} adversarial samples with generator\")\n",
    "if len(z) >= 25:\n",
    "    plot_prediction_switch(per_x, x, y, per_y)"
   ]
  }
 ],
 "metadata": {
  "kernelspec": {
   "display_name": "alva",
   "language": "python",
   "name": "python3"
  },
  "language_info": {
   "codemirror_mode": {
    "name": "ipython",
    "version": 3
   },
   "file_extension": ".py",
   "mimetype": "text/x-python",
   "name": "python",
   "nbconvert_exporter": "python",
   "pygments_lexer": "ipython3",
   "version": "3.9.16"
  },
  "vscode": {
   "interpreter": {
    "hash": "c93c2a9933c598ab2e4289e25f94362f93c6da1457c08a60e5b14867941aa722"
   }
  }
 },
 "nbformat": 4,
 "nbformat_minor": 4
}
